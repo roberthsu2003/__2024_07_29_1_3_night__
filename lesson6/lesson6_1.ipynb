{
 "cells": [
  {
   "cell_type": "code",
   "execution_count": 2,
   "metadata": {},
   "outputs": [
    {
     "name": "stdout",
     "output_type": "stream",
     "text": [
      "您已經存了7個月,共存了31969元\n"
     ]
    }
   ],
   "source": [
    "#小明想要存錢買一輛機車,機車每輛30000元，他將每月存的錢輸入，當存款足夠買機車時，就顯示提示訊息告知。\n",
    "deposit = 0\n",
    "month = 0\n",
    "while deposit<30000:\n",
    "    month += 1\n",
    "    money = int(input(f'請輸入第{month}月份的存款:'))\n",
    "    deposit += money\n",
    "print(f\"您已經存了{month}個月,共存了{deposit}元\")"
   ]
  },
  {
   "cell_type": "code",
   "execution_count": 4,
   "metadata": {},
   "outputs": [
    {
     "name": "stdout",
     "output_type": "stream",
     "text": [
      "Taiwan\n",
      "Japan\n",
      "應用程式結束!\n"
     ]
    }
   ],
   "source": [
    "#請輸入小寫的英文字串,將英文字第1個字變大寫\n",
    "#請輸入小寫英文字[按q會離開]:\n",
    "#taiwan輸出Taiwan\n",
    "\n",
    "stuff = input(\"請輸入小寫英文字[按q會離開]:\")\n",
    "#print(type(stuff))\n",
    "while not stuff == 'q':\n",
    "    print(stuff.capitalize())\n",
    "    stuff = input(\"請輸入小寫英文字[按q會離開]:\")\n",
    "print(\"應用程式結束!\")"
   ]
  },
  {
   "cell_type": "markdown",
   "metadata": {},
   "source": []
  }
 ],
 "metadata": {
  "kernelspec": {
   "display_name": "Python 3",
   "language": "python",
   "name": "python3"
  },
  "language_info": {
   "codemirror_mode": {
    "name": "ipython",
    "version": 3
   },
   "file_extension": ".py",
   "mimetype": "text/x-python",
   "name": "python",
   "nbconvert_exporter": "python",
   "pygments_lexer": "ipython3",
   "version": "3.11.9"
  }
 },
 "nbformat": 4,
 "nbformat_minor": 2
}

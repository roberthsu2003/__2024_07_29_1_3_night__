{
 "cells": [
  {
   "cell_type": "code",
   "execution_count": 1,
   "metadata": {},
   "outputs": [
    {
     "name": "stdout",
     "output_type": "stream",
     "text": [
      "徐國堂 的 BMI 為 24.68, 為 過重\n",
      "應用程式結束\n"
     ]
    }
   ],
   "source": [
    "def get_status_message(bmi: float) -> str:\n",
    "    if bmi < 18.5:\n",
    "        return \"體重過輕\"\n",
    "    elif bmi < 24:\n",
    "        return \"正常範圍\"\n",
    "    elif bmi < 27:\n",
    "        return \"過重\"\n",
    "    elif bmi < 30:\n",
    "        return \"輕度肥胖\"\n",
    "    elif bmi < 35:\n",
    "        return \"中度肥胖\"\n",
    "    else:\n",
    "        return \"重度肥胖\"\n",
    "\n",
    "while True:\n",
    "    try:\n",
    "        name = input(\"請輸入姓名: \")\n",
    "        height = float(input('請輸入身高（cm）: '))\n",
    "        weight = float(input('請輸入體重（kg）: '))\n",
    "        bmi = weight / ((height * 0.01) ** 2)\n",
    "        grade = get_status_message(bmi)\n",
    "        print(f\"{name} 的 BMI 為 {bmi:.2f}, 為 {grade}\")\n",
    "    except ValueError:\n",
    "        print(\"格式錯誤，請重新輸入數據\")\n",
    "        continue\n",
    "\n",
    "    stuff = input(\"請問是否繼續輸入資料 ('q': 離開, 任意鍵: 繼續)? \")\n",
    "\n",
    "    if stuff == 'q':\n",
    "        break\n",
    "\n",
    "print(\"應用程式結束\")"
   ]
  },
  {
   "cell_type": "code",
   "execution_count": 2,
   "metadata": {},
   "outputs": [
    {
     "data": {
      "text/plain": [
       "'xxxx'"
      ]
     },
     "execution_count": 2,
     "metadata": {},
     "output_type": "execute_result"
    }
   ],
   "source": [
    "#單行字串\n",
    "'xxxxxxxxxxx'"
   ]
  },
  {
   "cell_type": "code",
   "execution_count": 6,
   "metadata": {},
   "outputs": [
    {
     "data": {
      "text/plain": [
       "'\\nxxxxxxxxxxxxxx\\nxxxxxxxxxxxx\\nxxxxxxx\\n'"
      ]
     },
     "metadata": {},
     "output_type": "display_data"
    },
    {
     "name": "stdout",
     "output_type": "stream",
     "text": [
      "\n",
      "xxxxxxxxxxxxxx\n",
      "xxxxxxxxxxxx\n",
      "xxxxxxx\n",
      "\n"
     ]
    }
   ],
   "source": [
    "#多行字串\n",
    "multi_lines = '''\n",
    "xxxxxxxxxxxxxx\n",
    "xxxxxxxxxxxx\n",
    "xxxxxxx\n",
    "'''\n",
    "display(multi_lines)\n",
    "print(multi_lines)"
   ]
  }
 ],
 "metadata": {
  "kernelspec": {
   "display_name": "Python 3",
   "language": "python",
   "name": "python3"
  },
  "language_info": {
   "codemirror_mode": {
    "name": "ipython",
    "version": 3
   },
   "file_extension": ".py",
   "mimetype": "text/x-python",
   "name": "python",
   "nbconvert_exporter": "python",
   "pygments_lexer": "ipython3",
   "version": "3.11.9"
  }
 },
 "nbformat": 4,
 "nbformat_minor": 2
}

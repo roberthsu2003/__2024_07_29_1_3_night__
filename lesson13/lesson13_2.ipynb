{
 "cells": [
  {
   "cell_type": "code",
   "execution_count": 1,
   "metadata": {},
   "outputs": [
    {
     "data": {
      "text/plain": [
       "[3, 6, 9, 12, 15]"
      ]
     },
     "execution_count": 1,
     "metadata": {},
     "output_type": "execute_result"
    }
   ],
   "source": [
    "values = [1, 2, 3, 4, 5]\n",
    "multiply = 3\n",
    "\n",
    "new_values = []\n",
    "for i in values:\n",
    "    new_values.append(i*multiply)\n",
    "\n",
    "new_values"
   ]
  },
  {
   "cell_type": "code",
   "execution_count": 2,
   "metadata": {},
   "outputs": [
    {
     "data": {
      "text/plain": [
       "[3, 6, 9, 12, 15]"
      ]
     },
     "execution_count": 2,
     "metadata": {},
     "output_type": "execute_result"
    }
   ],
   "source": [
    "values = [1, 2, 3, 4, 5]\n",
    "multiply = 3\n",
    "\n",
    "new_values = [i*multiply for i in values]\n",
    "new_values"
   ]
  },
  {
   "cell_type": "code",
   "execution_count": 3,
   "metadata": {},
   "outputs": [
    {
     "data": {
      "text/plain": [
       "[1, 2, 3, 4, 5, 1, 2, 3, 4, 5, 1, 2, 3, 4, 5]"
      ]
     },
     "execution_count": 3,
     "metadata": {},
     "output_type": "execute_result"
    }
   ],
   "source": [
    "values = [1, 2, 3, 4, 5]\n",
    "multiply = 3\n",
    "values * multiply"
   ]
  },
  {
   "cell_type": "code",
   "execution_count": 11,
   "metadata": {},
   "outputs": [
    {
     "data": {
      "text/plain": [
       "array([ 3.14159, 12.56636, 28.27431, 50.26544, 78.53975])"
      ]
     },
     "execution_count": 11,
     "metadata": {},
     "output_type": "execute_result"
    }
   ],
   "source": [
    "import numpy as np\n",
    "values_array = np.array([1, 2, 3, 4, 5])\n",
    "multiply = 3\n",
    "values_array * multiply\n",
    "values_array ** 2 * 3.14159"
   ]
  },
  {
   "cell_type": "code",
   "execution_count": 10,
   "metadata": {},
   "outputs": [
    {
     "data": {
      "text/plain": [
       "array([[59, 58, 86, 85, 98],\n",
       "       [51, 83, 60, 92, 77],\n",
       "       [79, 58, 54, 78, 94],\n",
       "       [56, 71, 65, 89, 74],\n",
       "       [99, 77, 65, 61, 68],\n",
       "       [50, 67, 59, 83, 73],\n",
       "       [58, 79, 50, 52, 71],\n",
       "       [63, 77, 63, 55, 92],\n",
       "       [93, 84, 91, 90, 78],\n",
       "       [99, 60, 73, 65, 87],\n",
       "       [74, 59, 84, 91, 62],\n",
       "       [50, 55, 96, 94, 78],\n",
       "       [55, 71, 72, 82, 82],\n",
       "       [64, 70, 55, 54, 98],\n",
       "       [61, 56, 51, 99, 93],\n",
       "       [63, 89, 59, 69, 72],\n",
       "       [83, 59, 70, 54, 53],\n",
       "       [72, 57, 52, 78, 97],\n",
       "       [86, 52, 99, 72, 93],\n",
       "       [90, 86, 58, 95, 83],\n",
       "       [72, 98, 84, 92, 80],\n",
       "       [67, 79, 75, 89, 58],\n",
       "       [88, 78, 69, 58, 95],\n",
       "       [80, 58, 56, 60, 83],\n",
       "       [60, 70, 59, 73, 93],\n",
       "       [71, 69, 59, 59, 82],\n",
       "       [95, 80, 53, 66, 64],\n",
       "       [98, 98, 92, 62, 98],\n",
       "       [83, 92, 93, 90, 54],\n",
       "       [94, 78, 89, 67, 94],\n",
       "       [98, 71, 67, 90, 78],\n",
       "       [89, 81, 98, 63, 90],\n",
       "       [81, 78, 75, 84, 78],\n",
       "       [79, 72, 91, 92, 69],\n",
       "       [66, 80, 94, 93, 93],\n",
       "       [68, 97, 86, 63, 61],\n",
       "       [97, 53, 50, 60, 97],\n",
       "       [91, 90, 99, 58, 63],\n",
       "       [53, 85, 77, 53, 59],\n",
       "       [64, 65, 75, 83, 72],\n",
       "       [64, 52, 78, 68, 72],\n",
       "       [50, 77, 58, 66, 87],\n",
       "       [73, 59, 62, 50, 93],\n",
       "       [81, 74, 90, 81, 95],\n",
       "       [95, 81, 81, 99, 71],\n",
       "       [62, 74, 59, 82, 64],\n",
       "       [84, 81, 92, 99, 93],\n",
       "       [91, 91, 98, 73, 94],\n",
       "       [57, 54, 83, 67, 68],\n",
       "       [67, 64, 58, 62, 80]])"
      ]
     },
     "execution_count": 10,
     "metadata": {},
     "output_type": "execute_result"
    }
   ],
   "source": [
    "import numpy as np\n",
    "np.random.randint(50,100,size=(50,5))"
   ]
  }
 ],
 "metadata": {
  "kernelspec": {
   "display_name": "Python 3",
   "language": "python",
   "name": "python3"
  },
  "language_info": {
   "codemirror_mode": {
    "name": "ipython",
    "version": 3
   },
   "file_extension": ".py",
   "mimetype": "text/x-python",
   "name": "python",
   "nbconvert_exporter": "python",
   "pygments_lexer": "ipython3",
   "version": "3.11.9"
  }
 },
 "nbformat": 4,
 "nbformat_minor": 2
}

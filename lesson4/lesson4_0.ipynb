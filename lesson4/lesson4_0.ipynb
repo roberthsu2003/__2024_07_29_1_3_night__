{
 "cells": [
  {
   "cell_type": "code",
   "execution_count": 1,
   "metadata": {},
   "outputs": [
    {
     "name": "stdout",
     "output_type": "stream",
     "text": [
      "徐國堂您好:\n",
      "您的BMI值:25.47\n"
     ]
    }
   ],
   "source": [
    "name = input(\"請輸入姓名: \")\n",
    "height_cm = float(input(\"請輸入身高(公分): \"))\n",
    "weight = float(input(\"請輸入體重(kg): \"))\n",
    "height_m = height_cm / 100\n",
    "BMI = round(weight / height_m ** 2, ndigits=2)\n",
    "print(f\"{name}您好:\")\n",
    "print(f\"您的BMI值:{BMI}\" )"
   ]
  }
 ],
 "metadata": {
  "kernelspec": {
   "display_name": "Python 3",
   "language": "python",
   "name": "python3"
  },
  "language_info": {
   "codemirror_mode": {
    "name": "ipython",
    "version": 3
   },
   "file_extension": ".py",
   "mimetype": "text/x-python",
   "name": "python",
   "nbconvert_exporter": "python",
   "pygments_lexer": "ipython3",
   "version": "3.11.9"
  }
 },
 "nbformat": 4,
 "nbformat_minor": 2
}

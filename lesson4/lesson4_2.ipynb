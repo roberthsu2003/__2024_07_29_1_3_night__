{
 "cells": [
  {
   "cell_type": "code",
   "execution_count": 8,
   "metadata": {},
   "outputs": [
    {
     "name": "stdout",
     "output_type": "stream",
     "text": [
      "學生分數等級為丁\n"
     ]
    }
   ],
   "source": [
    "# 90(含)~100分為「優」\n",
    "# 80(含)~89分為「甲」\n",
    "# 70(含)~79分為「乙」\n",
    "# 60(含)~69分為「丙」\n",
    "# 0(含)~59分為「丁」\n",
    "\n",
    "score = int(input(\"請輸入學生分數:\"))\n",
    "if score >= 90:\n",
    "    grade = '優'\n",
    "elif score >= 80:\n",
    "    grade = '甲'\n",
    "elif score >= 70:\n",
    "    grade = '乙'\n",
    "elif score >= 60:\n",
    "    grade = '丙'\n",
    "else:\n",
    "    grade = '丁'\n",
    "\n",
    "print(f\"學生分數等級為{grade}\")"
   ]
  },
  {
   "cell_type": "code",
   "execution_count": 10,
   "metadata": {},
   "outputs": [
    {
     "name": "stdout",
     "output_type": "stream",
     "text": [
      "實付金額是:98765\n"
     ]
    }
   ],
   "source": [
    "#輸入顧客購買金額，若金額在\n",
    "#100000元打8折. \n",
    "#50000打85折. \n",
    "#30000打9折. \n",
    "#10000打95折.\n",
    "\n",
    "import math\n",
    "\n",
    "money = int(input('請輸入購買金額:'))\n",
    "if money < 10000:\n",
    "    pay_money = money\n",
    "elif money < 30000:\n",
    "    pay_money = money * 0.95\n",
    "elif money < 50000:\n",
    "    pay_money = money * 0.9\n",
    "elif money < 100000:\n",
    "    pay_money = money * 0.85\n",
    "else:\n",
    "    pay_money = money * 0.8\n",
    "\n",
    "print(f\"實付金額是:{math.ceil(pay_money)}\")"
   ]
  },
  {
   "cell_type": "code",
   "execution_count": 12,
   "metadata": {},
   "outputs": [
    {
     "name": "stdout",
     "output_type": "stream",
     "text": [
      "可以考駕照\n"
     ]
    }
   ],
   "source": [
    "age = 25\n",
    "\n",
    "if not age < 18:\n",
    "    print('可以考駕照')\n",
    "else:\n",
    "    print('不可以考駕照')\n",
    "    "
   ]
  }
 ],
 "metadata": {
  "kernelspec": {
   "display_name": "Python 3",
   "language": "python",
   "name": "python3"
  },
  "language_info": {
   "codemirror_mode": {
    "name": "ipython",
    "version": 3
   },
   "file_extension": ".py",
   "mimetype": "text/x-python",
   "name": "python",
   "nbconvert_exporter": "python",
   "pygments_lexer": "ipython3",
   "version": "3.11.9"
  }
 },
 "nbformat": 4,
 "nbformat_minor": 2
}

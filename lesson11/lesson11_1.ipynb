{
 "cells": [
  {
   "cell_type": "code",
   "execution_count": 2,
   "metadata": {},
   "outputs": [],
   "source": [
    "# 請下載日射量json資料,存檔名稱為'台灣日射量.json'\n",
    "import requests\n",
    "from requests.exceptions import HTTPError,ConnectionError,Timeout\n",
    "\n",
    "try:\n",
    "    url = \"https://opendata.cwa.gov.tw/fileapi/v1/opendataapi/O-A0091-001?Authorization=rdec-key-123-45678-011121314&format=JSON\"\n",
    "    response = requests.get(url)\n",
    "    response.raise_for_status()\n",
    "    content = response.text\n",
    "    #print(content)\n",
    "except ConnectionError:\n",
    "    print(\"連線伺服器發生錯誤\")\n",
    "except Timeout:\n",
    "    print(\"伺服器忙碌,沒有回應\")\n",
    "except HTTPError:\n",
    "    print(\"伺服器回應連線錯誤\")\n",
    "except Exception:\n",
    "    print(\"不知名的錯誤\")\n"
   ]
  },
  {
   "cell_type": "code",
   "execution_count": 7,
   "metadata": {},
   "outputs": [],
   "source": [
    "import io\n",
    "import json\n",
    "from pprint import pprint\n",
    "file = io.StringIO(content)\n",
    "#print(type(file))\n",
    "contents = json.load(file)"
   ]
  },
  {
   "cell_type": "code",
   "execution_count": 9,
   "metadata": {},
   "outputs": [
    {
     "data": {
      "text/plain": [
       "'2024-09-02T19:32:20+08:00'"
      ]
     },
     "execution_count": 9,
     "metadata": {},
     "output_type": "execute_result"
    }
   ],
   "source": [
    "date:str = contents['cwaopendata']['sent']"
   ]
  },
  {
   "cell_type": "code",
   "execution_count": null,
   "metadata": {},
   "outputs": [],
   "source": [
    "stations:list = contents['cwaopendata']['dataset']['Station']\n",
    "pprint(stations)"
   ]
  },
  {
   "cell_type": "code",
   "execution_count": 13,
   "metadata": {},
   "outputs": [
    {
     "name": "stdout",
     "output_type": "stream",
     "text": [
      "基隆 25.79\n",
      "====================\n",
      "淡水 25.79\n",
      "====================\n",
      "新北 25.77\n",
      "====================\n",
      "陽明山 25.47\n",
      "====================\n",
      "鞍部 26.41\n",
      "====================\n",
      "新竹 21.90\n",
      "====================\n",
      "臺中 18.84\n",
      "====================\n",
      "澎湖 25.31\n",
      "====================\n",
      "日月潭 16.05\n",
      "====================\n",
      "阿里山 11.72\n",
      "====================\n",
      "玉山 31.20\n",
      "====================\n",
      "嘉義 23.02\n",
      "====================\n",
      "臺南 22.38\n",
      "====================\n",
      "高雄 22.78\n",
      "====================\n",
      "恆春 22.31\n",
      "====================\n",
      "宜蘭 25.73\n",
      "====================\n",
      "花蓮 25.09\n",
      "====================\n",
      "成功 21.26\n",
      "====================\n",
      "臺東 25.79\n",
      "====================\n",
      "大武 24.80\n",
      "====================\n",
      "蘭嶼 18.02\n",
      "====================\n",
      "彭佳嶼 25.84\n",
      "====================\n",
      "東吉島 24.58\n",
      "====================\n",
      "南沙島 13.79\n",
      "====================\n",
      "東沙島 25.81\n",
      "====================\n",
      "永康 19.90\n",
      "====================\n",
      "臺北 25.10\n",
      "====================\n",
      "金門 22.46\n",
      "====================\n",
      "馬祖 24.45\n",
      "====================\n",
      "新屋 25.40\n",
      "====================\n",
      "田中 21.16\n",
      "====================\n",
      "後龍 23.48\n",
      "====================\n",
      "萬大發電廠 25.69\n",
      "====================\n"
     ]
    }
   ],
   "source": [
    "for station in stations:\n",
    "    name:str = station['StationName']\n",
    "    weather:str = station['WeatherElement']['SolarRadiation']\n",
    "    print(name,weather)\n",
    "    print(\"====================\")\n"
   ]
  }
 ],
 "metadata": {
  "kernelspec": {
   "display_name": "Python 3",
   "language": "python",
   "name": "python3"
  },
  "language_info": {
   "codemirror_mode": {
    "name": "ipython",
    "version": 3
   },
   "file_extension": ".py",
   "mimetype": "text/x-python",
   "name": "python",
   "nbconvert_exporter": "python",
   "pygments_lexer": "ipython3",
   "version": "3.11.9"
  }
 },
 "nbformat": 4,
 "nbformat_minor": 2
}

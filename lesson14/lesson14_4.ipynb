{
 "cells": [
  {
   "cell_type": "code",
   "execution_count": null,
   "metadata": {},
   "outputs": [],
   "source": [
    "import pandas as pd\n",
    "\n",
    "df = pd.read_csv('students.csv',index_col=0)\n",
    "df"
   ]
  },
  {
   "cell_type": "code",
   "execution_count": null,
   "metadata": {},
   "outputs": [],
   "source": [
    "#選取欄位\n",
    "df['國文']"
   ]
  },
  {
   "cell_type": "code",
   "execution_count": null,
   "metadata": {},
   "outputs": [],
   "source": [
    "#選取多欄位\n",
    "df[['國文','英文','數學']]"
   ]
  },
  {
   "cell_type": "code",
   "execution_count": null,
   "metadata": {},
   "outputs": [],
   "source": [
    "#陣列運算\n",
    "#建立新欄位\n",
    "sum = df['國文'] + df['英文'] + df['數學'] + df['地理'] + df['探索']\n",
    "average = sum / 5\n",
    "df['總分'] = sum\n",
    "df['平均'] = average\n",
    "df"
   ]
  },
  {
   "cell_type": "code",
   "execution_count": 15,
   "metadata": {},
   "outputs": [
    {
     "data": {
      "text/plain": [
       "國文     51.0\n",
       "英文     90.0\n",
       "數學     68.0\n",
       "地理     61.0\n",
       "探索     68.0\n",
       "總分    338.0\n",
       "平均     67.6\n",
       "Name: 杜明延, dtype: float64"
      ]
     },
     "execution_count": 15,
     "metadata": {},
     "output_type": "execute_result"
    }
   ],
   "source": [
    "df.loc['杜明延',:]"
   ]
  },
  {
   "cell_type": "code",
   "execution_count": 16,
   "metadata": {},
   "outputs": [
    {
     "data": {
      "text/html": [
       "<div>\n",
       "<style scoped>\n",
       "    .dataframe tbody tr th:only-of-type {\n",
       "        vertical-align: middle;\n",
       "    }\n",
       "\n",
       "    .dataframe tbody tr th {\n",
       "        vertical-align: top;\n",
       "    }\n",
       "\n",
       "    .dataframe thead th {\n",
       "        text-align: right;\n",
       "    }\n",
       "</style>\n",
       "<table border=\"1\" class=\"dataframe\">\n",
       "  <thead>\n",
       "    <tr style=\"text-align: right;\">\n",
       "      <th></th>\n",
       "      <th>國文</th>\n",
       "      <th>英文</th>\n",
       "      <th>數學</th>\n",
       "      <th>地理</th>\n",
       "      <th>探索</th>\n",
       "      <th>總分</th>\n",
       "      <th>平均</th>\n",
       "    </tr>\n",
       "  </thead>\n",
       "  <tbody>\n",
       "    <tr>\n",
       "      <th>杜明延</th>\n",
       "      <td>51</td>\n",
       "      <td>90</td>\n",
       "      <td>68</td>\n",
       "      <td>61</td>\n",
       "      <td>68</td>\n",
       "      <td>338</td>\n",
       "      <td>67.6</td>\n",
       "    </tr>\n",
       "    <tr>\n",
       "      <th>吳晴洋</th>\n",
       "      <td>77</td>\n",
       "      <td>56</td>\n",
       "      <td>74</td>\n",
       "      <td>76</td>\n",
       "      <td>86</td>\n",
       "      <td>369</td>\n",
       "      <td>73.8</td>\n",
       "    </tr>\n",
       "    <tr>\n",
       "      <th>林志喜</th>\n",
       "      <td>61</td>\n",
       "      <td>52</td>\n",
       "      <td>78</td>\n",
       "      <td>79</td>\n",
       "      <td>83</td>\n",
       "      <td>353</td>\n",
       "      <td>70.6</td>\n",
       "    </tr>\n",
       "    <tr>\n",
       "      <th>林佳慧</th>\n",
       "      <td>75</td>\n",
       "      <td>98</td>\n",
       "      <td>56</td>\n",
       "      <td>63</td>\n",
       "      <td>62</td>\n",
       "      <td>354</td>\n",
       "      <td>70.8</td>\n",
       "    </tr>\n",
       "    <tr>\n",
       "      <th>余丞苓</th>\n",
       "      <td>71</td>\n",
       "      <td>96</td>\n",
       "      <td>54</td>\n",
       "      <td>52</td>\n",
       "      <td>65</td>\n",
       "      <td>338</td>\n",
       "      <td>67.6</td>\n",
       "    </tr>\n",
       "  </tbody>\n",
       "</table>\n",
       "</div>"
      ],
      "text/plain": [
       "     國文  英文  數學  地理  探索   總分    平均\n",
       "杜明延  51  90  68  61  68  338  67.6\n",
       "吳晴洋  77  56  74  76  86  369  73.8\n",
       "林志喜  61  52  78  79  83  353  70.6\n",
       "林佳慧  75  98  56  63  62  354  70.8\n",
       "余丞苓  71  96  54  52  65  338  67.6"
      ]
     },
     "execution_count": 16,
     "metadata": {},
     "output_type": "execute_result"
    }
   ],
   "source": [
    "df.iloc[:5,:]"
   ]
  }
 ],
 "metadata": {
  "kernelspec": {
   "display_name": "Python 3",
   "language": "python",
   "name": "python3"
  },
  "language_info": {
   "codemirror_mode": {
    "name": "ipython",
    "version": 3
   },
   "file_extension": ".py",
   "mimetype": "text/x-python",
   "name": "python",
   "nbconvert_exporter": "python",
   "pygments_lexer": "ipython3",
   "version": "3.11.9"
  }
 },
 "nbformat": 4,
 "nbformat_minor": 2
}

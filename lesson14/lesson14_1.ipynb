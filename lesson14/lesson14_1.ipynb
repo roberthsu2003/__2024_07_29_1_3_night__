{
 "cells": [
  {
   "cell_type": "code",
   "execution_count": 1,
   "metadata": {},
   "outputs": [
    {
     "data": {
      "text/plain": [
       "(5, 7)"
      ]
     },
     "execution_count": 1,
     "metadata": {},
     "output_type": "execute_result"
    }
   ],
   "source": [
    "(5,7)"
   ]
  },
  {
   "cell_type": "code",
   "execution_count": 2,
   "metadata": {},
   "outputs": [
    {
     "data": {
      "text/plain": [
       "(5, 7)"
      ]
     },
     "execution_count": 2,
     "metadata": {},
     "output_type": "execute_result"
    }
   ],
   "source": [
    "5, 7"
   ]
  },
  {
   "cell_type": "code",
   "execution_count": 3,
   "metadata": {},
   "outputs": [
    {
     "data": {
      "text/plain": [
       "(5,)"
      ]
     },
     "execution_count": 3,
     "metadata": {},
     "output_type": "execute_result"
    }
   ],
   "source": [
    "(5,)"
   ]
  },
  {
   "cell_type": "code",
   "execution_count": 4,
   "metadata": {},
   "outputs": [
    {
     "data": {
      "text/plain": [
       "[1, 3, 5, 7, 9, 3, 5, 6, 7, 9]"
      ]
     },
     "execution_count": 4,
     "metadata": {},
     "output_type": "execute_result"
    }
   ],
   "source": [
    "list_a = [1, 3, 5, 7, 9]\n",
    "list_b = [3, 5, 6, 7, 9]\n",
    "list_a + list_b"
   ]
  },
  {
   "cell_type": "code",
   "execution_count": 7,
   "metadata": {},
   "outputs": [
    {
     "data": {
      "text/plain": [
       "array([ 4,  8, 11, 14, 18])"
      ]
     },
     "execution_count": 7,
     "metadata": {},
     "output_type": "execute_result"
    }
   ],
   "source": [
    "import numpy as np\n",
    "array_a = np.array([1, 3, 5, 7, 9])\n",
    "array_b = np.array([3, 5, 6, 7, 9])\n",
    "type(array_a)\n",
    "array_a + array_b"
   ]
  },
  {
   "cell_type": "code",
   "execution_count": 9,
   "metadata": {},
   "outputs": [
    {
     "data": {
      "text/plain": [
       "(2, (2, 3), 6, dtype('int64'))"
      ]
     },
     "execution_count": 9,
     "metadata": {},
     "output_type": "execute_result"
    }
   ],
   "source": [
    "import numpy as np\n",
    "\n",
    "l = [[1,2,3],[2,3,4]]\n",
    "array = np.array(l)\n",
    "array.ndim, array.shape, array.size, array.dtype"
   ]
  },
  {
   "cell_type": "code",
   "execution_count": 11,
   "metadata": {},
   "outputs": [
    {
     "data": {
      "text/plain": [
       "array([[ 0.53841756, -0.18513258,  1.06703326, -0.31235517, -0.35922857],\n",
       "       [-0.00455612,  0.94633116,  0.59319705, -1.67292502, -1.0608963 ],\n",
       "       [ 0.3996462 ,  0.71616968,  0.37567978, -1.74442522, -1.19109472],\n",
       "       [ 0.23473729,  1.02400258, -0.19084743,  1.22253673,  0.02142558],\n",
       "       [-0.90119916,  0.42296921, -0.21415737,  0.55325491,  0.27655133],\n",
       "       [-0.79318464,  0.23786029,  0.29266534,  0.9600372 , -0.88811432],\n",
       "       [ 0.80267664,  0.70969849,  0.60922175,  2.08292097,  1.45541184],\n",
       "       [ 1.58095265,  1.31609941,  0.13813282,  0.09600803, -0.02325212],\n",
       "       [-0.23073038,  0.54991508,  1.61118153,  0.67052036,  0.54822733],\n",
       "       [-0.32922404,  0.76739867,  1.09355738,  0.75036972, -2.4697411 ]])"
      ]
     },
     "execution_count": 11,
     "metadata": {},
     "output_type": "execute_result"
    }
   ],
   "source": [
    "import numpy as np\n",
    "np.random.randn(10,5)"
   ]
  },
  {
   "cell_type": "code",
   "execution_count": 17,
   "metadata": {},
   "outputs": [
    {
     "data": {
      "text/plain": [
       "array([[ 89,  78,  52,  59,  87],\n",
       "       [ 64,  97,  87,  98,  68],\n",
       "       [ 56,  69,  86,  85,  92],\n",
       "       [ 78,  53,  80,  85,  54],\n",
       "       [ 79,  58,  92,  71,  97],\n",
       "       [ 60,  91,  76,  81,  99],\n",
       "       [ 86,  70,  71,  99,  97],\n",
       "       [ 96,  62,  83,  75,  81],\n",
       "       [ 78,  74,  52,  58,  71],\n",
       "       [ 58,  77,  74,  70,  70],\n",
       "       [ 78,  96,  99,  77,  61],\n",
       "       [ 79,  92,  78,  84,  65],\n",
       "       [ 72,  98,  67,  91,  79],\n",
       "       [ 97,  57,  78,  65,  51],\n",
       "       [ 64,  94,  54,  73,  73],\n",
       "       [ 56,  76,  81,  87,  61],\n",
       "       [ 62,  87,  56,  78,  74],\n",
       "       [100,  69, 100,  73,  86],\n",
       "       [ 86,  76,  65,  85,  72],\n",
       "       [ 99,  67,  90,  58,  82],\n",
       "       [ 56,  62,  68,  82,  52],\n",
       "       [ 67,  66,  94,  83,  64],\n",
       "       [ 66,  90,  79,  56,  67],\n",
       "       [ 51,  50,  52,  80,  50],\n",
       "       [ 61,  80,  51,  96,  77],\n",
       "       [ 70,  70,  82,  59,  85],\n",
       "       [ 59,  81,  52,  91,  86],\n",
       "       [ 65,  82,  89,  89,  81],\n",
       "       [ 52,  81,  95,  90,  59],\n",
       "       [ 94,  68,  99,  99,  58],\n",
       "       [ 65,  88,  92,  57,  97],\n",
       "       [ 81, 100,  89,  79,  85],\n",
       "       [ 87,  92,  77,  97,  98],\n",
       "       [ 67,  63,  50,  97,  92],\n",
       "       [ 84,  55,  88,  72,  72],\n",
       "       [100,  85,  87,  64,  56],\n",
       "       [ 72,  54,  94,  65, 100],\n",
       "       [ 58,  59,  94,  89,  56],\n",
       "       [ 63,  53,  81,  75,  82],\n",
       "       [ 80,  63,  90,  97,  61],\n",
       "       [ 91,  78,  86,  63,  77],\n",
       "       [ 97,  73,  87,  72,  59],\n",
       "       [ 52,  51,  71,  88,  62],\n",
       "       [ 85,  70,  78,  84,  69],\n",
       "       [ 64,  79, 100,  63, 100],\n",
       "       [ 54,  91,  60,  64,  83],\n",
       "       [ 72,  85,  55,  63,  91],\n",
       "       [ 74,  77,  64,  80,  79],\n",
       "       [ 50,  58,  64,  70,  96],\n",
       "       [ 52,  90,  64,  81,  54]])"
      ]
     },
     "execution_count": 17,
     "metadata": {},
     "output_type": "execute_result"
    }
   ],
   "source": [
    "#50個學生,每個學生有5個分數(50-100)\n",
    "scores = np.random.randint(50,101,size=(50,5))\n",
    "scores"
   ]
  }
 ],
 "metadata": {
  "kernelspec": {
   "display_name": "Python 3",
   "language": "python",
   "name": "python3"
  },
  "language_info": {
   "codemirror_mode": {
    "name": "ipython",
    "version": 3
   },
   "file_extension": ".py",
   "mimetype": "text/x-python",
   "name": "python",
   "nbconvert_exporter": "python",
   "pygments_lexer": "ipython3",
   "version": "3.11.9"
  }
 },
 "nbformat": 4,
 "nbformat_minor": 2
}

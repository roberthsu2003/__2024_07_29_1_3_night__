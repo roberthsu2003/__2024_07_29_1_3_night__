{
 "cells": [
  {
   "cell_type": "code",
   "execution_count": 1,
   "metadata": {},
   "outputs": [
    {
     "data": {
      "text/plain": [
       "(5, 7)"
      ]
     },
     "execution_count": 1,
     "metadata": {},
     "output_type": "execute_result"
    }
   ],
   "source": [
    "(5,7)"
   ]
  },
  {
   "cell_type": "code",
   "execution_count": 2,
   "metadata": {},
   "outputs": [
    {
     "data": {
      "text/plain": [
       "(5, 7)"
      ]
     },
     "execution_count": 2,
     "metadata": {},
     "output_type": "execute_result"
    }
   ],
   "source": [
    "5, 7"
   ]
  },
  {
   "cell_type": "code",
   "execution_count": 3,
   "metadata": {},
   "outputs": [
    {
     "data": {
      "text/plain": [
       "(5,)"
      ]
     },
     "execution_count": 3,
     "metadata": {},
     "output_type": "execute_result"
    }
   ],
   "source": [
    "(5,)"
   ]
  },
  {
   "cell_type": "code",
   "execution_count": 4,
   "metadata": {},
   "outputs": [
    {
     "data": {
      "text/plain": [
       "[1, 3, 5, 7, 9, 3, 5, 6, 7, 9]"
      ]
     },
     "execution_count": 4,
     "metadata": {},
     "output_type": "execute_result"
    }
   ],
   "source": [
    "list_a = [1, 3, 5, 7, 9]\n",
    "list_b = [3, 5, 6, 7, 9]\n",
    "list_a + list_b"
   ]
  },
  {
   "cell_type": "code",
   "execution_count": 7,
   "metadata": {},
   "outputs": [
    {
     "data": {
      "text/plain": [
       "array([ 4,  8, 11, 14, 18])"
      ]
     },
     "execution_count": 7,
     "metadata": {},
     "output_type": "execute_result"
    }
   ],
   "source": [
    "import numpy as np\n",
    "array_a = np.array([1, 3, 5, 7, 9])\n",
    "array_b = np.array([3, 5, 6, 7, 9])\n",
    "type(array_a)\n",
    "array_a + array_b"
   ]
  },
  {
   "cell_type": "code",
   "execution_count": 9,
   "metadata": {},
   "outputs": [
    {
     "data": {
      "text/plain": [
       "(2, (2, 3), 6, dtype('int64'))"
      ]
     },
     "execution_count": 9,
     "metadata": {},
     "output_type": "execute_result"
    }
   ],
   "source": [
    "import numpy as np\n",
    "\n",
    "l = [[1,2,3],[2,3,4]]\n",
    "array = np.array(l)\n",
    "array.ndim, array.shape, array.size, array.dtype"
   ]
  },
  {
   "cell_type": "code",
   "execution_count": 11,
   "metadata": {},
   "outputs": [
    {
     "data": {
      "text/plain": [
       "array([[ 0.53841756, -0.18513258,  1.06703326, -0.31235517, -0.35922857],\n",
       "       [-0.00455612,  0.94633116,  0.59319705, -1.67292502, -1.0608963 ],\n",
       "       [ 0.3996462 ,  0.71616968,  0.37567978, -1.74442522, -1.19109472],\n",
       "       [ 0.23473729,  1.02400258, -0.19084743,  1.22253673,  0.02142558],\n",
       "       [-0.90119916,  0.42296921, -0.21415737,  0.55325491,  0.27655133],\n",
       "       [-0.79318464,  0.23786029,  0.29266534,  0.9600372 , -0.88811432],\n",
       "       [ 0.80267664,  0.70969849,  0.60922175,  2.08292097,  1.45541184],\n",
       "       [ 1.58095265,  1.31609941,  0.13813282,  0.09600803, -0.02325212],\n",
       "       [-0.23073038,  0.54991508,  1.61118153,  0.67052036,  0.54822733],\n",
       "       [-0.32922404,  0.76739867,  1.09355738,  0.75036972, -2.4697411 ]])"
      ]
     },
     "execution_count": 11,
     "metadata": {},
     "output_type": "execute_result"
    }
   ],
   "source": [
    "import numpy as np\n",
    "np.random.randn(10,5)"
   ]
  },
  {
   "cell_type": "code",
   "execution_count": 18,
   "metadata": {},
   "outputs": [
    {
     "data": {
      "text/plain": [
       "array([[ 60,  78,  64, 100,  68],\n",
       "       [ 82,  57,  58,  53,  78],\n",
       "       [ 88,  75,  50,  59,  62],\n",
       "       [ 75,  50,  73,  66,  64],\n",
       "       [ 96,  76,  74,  98,  89],\n",
       "       [ 78,  63,  98,  65,  97],\n",
       "       [ 58,  96,  99,  68,  62],\n",
       "       [ 53,  79,  54,  53,  51],\n",
       "       [ 59,  79,  81,  57,  65],\n",
       "       [ 53,  99,  81,  97,  60],\n",
       "       [100,  64,  56,  93,  70],\n",
       "       [ 85, 100,  68,  70,  53],\n",
       "       [ 52,  99,  71,  72,  67],\n",
       "       [ 53,  83,  85,  73,  80],\n",
       "       [ 72,  77,  89,  80,  59],\n",
       "       [ 88,  94,  53,  65,  83],\n",
       "       [ 99,  74,  85,  99,  67],\n",
       "       [ 70,  60,  82,  64,  71],\n",
       "       [ 61,  92,  90,  90,  88],\n",
       "       [ 73,  51,  82,  68,  78],\n",
       "       [ 74,  81,  77,  73,  70],\n",
       "       [ 61,  85,  73,  92,  55],\n",
       "       [ 57,  50,  78,  80,  71],\n",
       "       [ 75,  85,  77,  85,  66],\n",
       "       [ 97,  62,  81,  78,  70],\n",
       "       [ 99,  67,  62,  54,  58],\n",
       "       [ 70,  78,  51,  62,  76],\n",
       "       [ 52,  93,  63,  96,  96],\n",
       "       [ 62,  50,  60,  77,  97],\n",
       "       [ 87,  52,  50,  85,  89],\n",
       "       [ 80,  91,  57,  65,  73],\n",
       "       [ 72,  54,  69,  58,  60],\n",
       "       [ 93,  72,  51,  78,  67],\n",
       "       [ 83,  50,  77,  57,  89],\n",
       "       [ 75,  72,  90,  96,  56],\n",
       "       [ 93,  80,  57,  61,  50],\n",
       "       [ 82,  64,  94,  64,  83],\n",
       "       [ 60,  95,  77,  98,  91],\n",
       "       [ 72,  62,  57,  60,  76],\n",
       "       [ 96,  50,  81,  88, 100],\n",
       "       [ 82,  90,  53,  50,  64],\n",
       "       [ 64,  87,  71, 100,  73],\n",
       "       [ 78,  93,  67,  54,  58],\n",
       "       [ 93,  69,  52,  80,  57],\n",
       "       [ 54, 100,  68,  74,  59],\n",
       "       [ 77,  82,  51,  73,  54],\n",
       "       [ 71,  96,  54,  79,  90],\n",
       "       [ 98,  57,  81,  79,  73],\n",
       "       [ 79,  57,  60,  51,  90],\n",
       "       [ 73,  92,  92,  59,  93]])"
      ]
     },
     "execution_count": 18,
     "metadata": {},
     "output_type": "execute_result"
    }
   ],
   "source": [
    "#50個學生,每個學生有5個分數(50-100)\n",
    "scores = np.random.randint(50,101,size=(50,5))\n",
    "scores"
   ]
  },
  {
   "cell_type": "code",
   "execution_count": 22,
   "metadata": {},
   "outputs": [
    {
     "data": {
      "text/plain": [
       "array([[77, 82, 51, 73, 54],\n",
       "       [71, 96, 54, 79, 90],\n",
       "       [98, 57, 81, 79, 73],\n",
       "       [79, 57, 60, 51, 90],\n",
       "       [73, 92, 92, 59, 93]])"
      ]
     },
     "execution_count": 22,
     "metadata": {},
     "output_type": "execute_result"
    }
   ],
   "source": [
    "#第一個學生\n",
    "scores[0,:]\n",
    "#前5個學生\n",
    "scores[:5,:]\n",
    "#最後5個學生\n",
    "scores[-5:,:]"
   ]
  },
  {
   "cell_type": "code",
   "execution_count": 23,
   "metadata": {},
   "outputs": [
    {
     "data": {
      "text/plain": [
       "array([ 60,  82,  88,  75,  96,  78,  58,  53,  59,  53, 100,  85,  52,\n",
       "        53,  72,  88,  99,  70,  61,  73,  74,  61,  57,  75,  97,  99,\n",
       "        70,  52,  62,  87,  80,  72,  93,  83,  75,  93,  82,  60,  72,\n",
       "        96,  82,  64,  78,  93,  54,  77,  71,  98,  79,  73])"
      ]
     },
     "execution_count": 23,
     "metadata": {},
     "output_type": "execute_result"
    }
   ],
   "source": [
    "#全班第1科的分數\n",
    "scores[:,0]"
   ]
  },
  {
   "cell_type": "code",
   "execution_count": 24,
   "metadata": {},
   "outputs": [
    {
     "data": {
      "text/plain": [
       "array([ 78,  57,  75,  50,  76,  63,  96,  79,  79,  99,  64, 100,  99,\n",
       "        83,  77,  94,  74,  60,  92,  51,  81,  85,  50,  85,  62,  67,\n",
       "        78,  93,  50,  52,  91,  54,  72,  50,  72,  80,  64,  95,  62,\n",
       "        50,  90,  87,  93,  69, 100,  82,  96,  57,  57,  92])"
      ]
     },
     "execution_count": 24,
     "metadata": {},
     "output_type": "execute_result"
    }
   ],
   "source": [
    "#全班第2科的分數\n",
    "scores[:,1]"
   ]
  },
  {
   "cell_type": "code",
   "execution_count": 26,
   "metadata": {},
   "outputs": [
    {
     "data": {
      "text/plain": [
       "array([370, 328, 334, 328, 433, 401, 383, 290, 341, 390, 383, 376, 361,\n",
       "       374, 377, 383, 424, 347, 421, 352, 375, 366, 336, 388, 388, 340,\n",
       "       337, 400, 346, 363, 366, 313, 361, 356, 389, 341, 387, 421, 327,\n",
       "       415, 339, 395, 350, 351, 355, 337, 390, 388, 337, 409])"
      ]
     },
     "execution_count": 26,
     "metadata": {},
     "output_type": "execute_result"
    }
   ],
   "source": [
    "#每位學生的總分\n",
    "total = scores[:,0] + scores[:,1] + scores[:,2] + scores[:,3] + scores[:,4] \n",
    "total"
   ]
  },
  {
   "cell_type": "code",
   "execution_count": 27,
   "metadata": {},
   "outputs": [
    {
     "data": {
      "text/plain": [
       "array([370, 328, 334, 328, 433, 401, 383, 290, 341, 390, 383, 376, 361,\n",
       "       374, 377, 383, 424, 347, 421, 352, 375, 366, 336, 388, 388, 340,\n",
       "       337, 400, 346, 363, 366, 313, 361, 356, 389, 341, 387, 421, 327,\n",
       "       415, 339, 395, 350, 351, 355, 337, 390, 388, 337, 409])"
      ]
     },
     "execution_count": 27,
     "metadata": {},
     "output_type": "execute_result"
    }
   ],
   "source": [
    "#使用統計的方法\n",
    "#每個學生總分\n",
    "np.sum(scores,axis=1)"
   ]
  },
  {
   "cell_type": "code",
   "execution_count": 28,
   "metadata": {},
   "outputs": [
    {
     "data": {
      "text/plain": [
       "array([74. , 65.6, 66.8, 65.6, 86.6, 80.2, 76.6, 58. , 68.2, 78. , 76.6,\n",
       "       75.2, 72.2, 74.8, 75.4, 76.6, 84.8, 69.4, 84.2, 70.4, 75. , 73.2,\n",
       "       67.2, 77.6, 77.6, 68. , 67.4, 80. , 69.2, 72.6, 73.2, 62.6, 72.2,\n",
       "       71.2, 77.8, 68.2, 77.4, 84.2, 65.4, 83. , 67.8, 79. , 70. , 70.2,\n",
       "       71. , 67.4, 78. , 77.6, 67.4, 81.8])"
      ]
     },
     "execution_count": 28,
     "metadata": {},
     "output_type": "execute_result"
    }
   ],
   "source": [
    "#每個學生平均\n",
    "np.mean(scores,axis=1)"
   ]
  }
 ],
 "metadata": {
  "kernelspec": {
   "display_name": "Python 3",
   "language": "python",
   "name": "python3"
  },
  "language_info": {
   "codemirror_mode": {
    "name": "ipython",
    "version": 3
   },
   "file_extension": ".py",
   "mimetype": "text/x-python",
   "name": "python",
   "nbconvert_exporter": "python",
   "pygments_lexer": "ipython3",
   "version": "3.11.9"
  }
 },
 "nbformat": 4,
 "nbformat_minor": 2
}

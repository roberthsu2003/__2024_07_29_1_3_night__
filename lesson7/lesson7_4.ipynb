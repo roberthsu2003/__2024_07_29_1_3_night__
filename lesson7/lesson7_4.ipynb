{
 "cells": [
  {
   "cell_type": "code",
   "execution_count": 4,
   "metadata": {},
   "outputs": [
    {
     "name": "stdout",
     "output_type": "stream",
     "text": [
      "18\n",
      "80\n"
     ]
    }
   ],
   "source": [
    "def addition(a:int,b:int)->int:\n",
    "    return a + b\n",
    "\n",
    "def multiply(a:int,c:int)->int:\n",
    "    return a * c\n",
    "\n",
    "print(addition(8,10)) #引數值的呼叫,依照順序\n",
    "print(multiply(c=10,a=8))#引數名稱的呼叫,可以不依照順序"
   ]
  }
 ],
 "metadata": {
  "kernelspec": {
   "display_name": "Python 3",
   "language": "python",
   "name": "python3"
  },
  "language_info": {
   "codemirror_mode": {
    "name": "ipython",
    "version": 3
   },
   "file_extension": ".py",
   "mimetype": "text/x-python",
   "name": "python",
   "nbconvert_exporter": "python",
   "pygments_lexer": "ipython3",
   "version": "3.11.9"
  }
 },
 "nbformat": 4,
 "nbformat_minor": 2
}

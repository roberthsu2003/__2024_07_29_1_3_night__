{
 "cells": [
  {
   "cell_type": "code",
   "execution_count": 2,
   "metadata": {},
   "outputs": [
    {
     "name": "stdout",
     "output_type": "stream",
     "text": [
      "格式錯誤\n"
     ]
    }
   ],
   "source": [
    "name=input('請輸入姓名:')\n",
    "try:\n",
    "    h=float(input('請輸入身高(cm):'))\n",
    "    w=float(input('請輸入體重(kg):'))\n",
    "except Exception:\n",
    "    print('格式錯誤')\n",
    "else:\n",
    "    bmi=round(w/(h*0.01)**2,ndigits=2)\n",
    "    print(f'{name}您好:\\n您的BMI值是:{bmi}')\n",
    "    if bmi<18.5:\n",
    "        print('體重:過輕')\n",
    "    elif bmi<24:\n",
    "        print('體重:正常')\n",
    "    elif bmi<27:\n",
    "        print('體重:過重')\n",
    "    elif bmi<30:\n",
    "        print('體重:輕度肥胖')\n",
    "    elif bmi<35:\n",
    "        print('體重:中度肥胖')\n",
    "    else:\n",
    "        print('體重:重度肥胖')"
   ]
  },
  {
   "cell_type": "code",
   "execution_count": 3,
   "metadata": {},
   "outputs": [
    {
     "name": "stdout",
     "output_type": "stream",
     "text": [
      "格式錯誤\n"
     ]
    }
   ],
   "source": [
    "name=input('請輸入姓名:')\n",
    "try:\n",
    "    h=float(input('請輸入身高(cm):'))\n",
    "    w=float(input('請輸入體重(kg):'))\n",
    "    bmi=round(w/(h*0.01)**2,ndigits=2)\n",
    "    print(f'{name}您好:\\n您的BMI值是:{bmi}')\n",
    "    if bmi<18.5:\n",
    "        print('體重:過輕')\n",
    "    elif bmi<24:\n",
    "        print('體重:正常')\n",
    "    elif bmi<27:\n",
    "        print('體重:過重')\n",
    "    elif bmi<30:\n",
    "        print('體重:輕度肥胖')\n",
    "    elif bmi<35:\n",
    "        print('體重:中度肥胖')\n",
    "    else:\n",
    "        print('體重:重度肥胖')\n",
    "except Exception:\n",
    "    print('格式錯誤')\n",
    "\n",
    "    "
   ]
  }
 ],
 "metadata": {
  "kernelspec": {
   "display_name": "Python 3",
   "language": "python",
   "name": "python3"
  },
  "language_info": {
   "codemirror_mode": {
    "name": "ipython",
    "version": 3
   },
   "file_extension": ".py",
   "mimetype": "text/x-python",
   "name": "python",
   "nbconvert_exporter": "python",
   "pygments_lexer": "ipython3",
   "version": "3.11.9"
  }
 },
 "nbformat": 4,
 "nbformat_minor": 2
}

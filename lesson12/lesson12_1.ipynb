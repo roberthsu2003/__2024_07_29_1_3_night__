{
 "cells": [
  {
   "cell_type": "code",
   "execution_count": 1,
   "metadata": {},
   "outputs": [],
   "source": [
    "import requests\n",
    "from requests import Response\n",
    "youbike_url = 'https://tcgbusfs.blob.core.windows.net/dotapp/youbike/v2/youbike_immediate.json'\n",
    "try:\n",
    "    respons:Response = requests.request('GET',youbike_url)\n",
    "    respons.raise_for_status()\n",
    "except Exception:\n",
    "    print(\"下載錯誤\")\n",
    "else:\n",
    "    content = respons.text"
   ]
  },
  {
   "cell_type": "code",
   "execution_count": null,
   "metadata": {},
   "outputs": [],
   "source": [
    "from pprint import pprint\n",
    "pprint(content)"
   ]
  },
  {
   "cell_type": "code",
   "execution_count": null,
   "metadata": {},
   "outputs": [],
   "source": [
    "from pydantic import BaseModel, RootModel \n",
    "\n",
    "class Station(BaseModel):\n",
    "    sna:str\n",
    "    sarea:str\n",
    "    mday:str\n",
    "    ar:str\n",
    "    act:str\n",
    "    total:int\n",
    "    available_rent_bikes:int\n",
    "    available_return_bikes:int\n",
    "\n",
    "class Youbikes(RootModel):\n",
    "    root:list[Station]\n",
    "\n",
    "youbikes:Youbikes = Youbikes.model_validate_json(content)\n",
    "youbikes_list = youbikes.model_dump()\n",
    "pprint(youbikes_list)"
   ]
  }
 ],
 "metadata": {
  "kernelspec": {
   "display_name": "Python 3",
   "language": "python",
   "name": "python3"
  },
  "language_info": {
   "codemirror_mode": {
    "name": "ipython",
    "version": 3
   },
   "file_extension": ".py",
   "mimetype": "text/x-python",
   "name": "python",
   "nbconvert_exporter": "python",
   "pygments_lexer": "ipython3",
   "version": "3.11.9"
  }
 },
 "nbformat": 4,
 "nbformat_minor": 2
}
